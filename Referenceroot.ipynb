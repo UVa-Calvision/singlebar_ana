{
 "cells": [
  {
   "cell_type": "code",
   "execution_count": 1,
   "metadata": {},
   "outputs": [
    {
     "name": "stdout",
     "output_type": "stream",
     "text": [
      "Welcome to JupyROOT 6.22/06\n"
     ]
    }
   ],
   "source": [
    "#importing the required libraries \n",
    "import ROOT as r\n",
    "import os, os.path"
   ]
  },
  {
   "cell_type": "code",
   "execution_count": 2,
   "metadata": {},
   "outputs": [],
   "source": [
    "E=[9,18,36,72]\n",
    "theta=[0,45,60,90]\n",
    "myDir=\"/home/sonakshi/single_bar/\""
   ]
  },
  {
   "cell_type": "code",
   "execution_count": 4,
   "metadata": {},
   "outputs": [],
   "source": [
    "tgs=[]  # tgraphs\n",
    "tm = r.TMultiGraph()\n",
    "col=1 #this is defining the color of the lines \n",
    "for energy in E:\n",
    "    tg=r.TGraph()\n",
    "    for angle in theta:\n",
    "        tf=r.TFile.Open(myDir+\"angle\"+str(angle)+\"E\"+str(energy)+\"MeV.root\")\n",
    "        #tf.ls()\n",
    "        \"\"\"\n",
    "        # get TTree from file (tf)\n",
    "        tree = tf.Get('tree')\n",
    "        #to see what the tree looks like \n",
    "        tree.Print()\n",
    "        #drawing the tree onto the canvas \n",
    "        make_canvas = r.TCanvas()\n",
    "        make_canvas.cd()\n",
    "        tree.Draw('SDdetected_rr_C')\n",
    "        make_canvas2 = r.TCanvas()\n",
    "        make_canvas2.cd()\n",
    "        tree.Draw('SDdetected_ff_S')\n",
    "        make_canvas.Draw()\n",
    "        make_canvas2.Draw()\n",
    "        \"\"\""
   ]
  },
  {
   "cell_type": "code",
   "execution_count": 5,
   "metadata": {},
   "outputs": [],
   "source": [
    "def getAverage(filename, branchname):\n",
    "    f3 = r.TFile.Open(filename)\n",
    "    t=f3.Get('tree')\n",
    "    histname = 'hist3_%s_%s' % (os.path.basename(filename), branchname)\n",
    "    x=r.TH1F(histname, 'title' , 100 , 0, 0)\n",
    "    t.Draw('%s>>%s' % (branchname, histname), '', 'goff')\n",
    "    return x.GetMean()    "
   ]
  },
  {
   "cell_type": "code",
   "execution_count": 8,
   "metadata": {},
   "outputs": [
    {
     "data": {
      "text/plain": [
       "461.372"
      ]
     },
     "execution_count": 8,
     "metadata": {},
     "output_type": "execute_result"
    }
   ],
   "source": [
    "mean = getAverage('/home/sonakshi/single_bar/angle45E18MeV.root','SDdetected_rr_S')\n",
    "mean"
   ]
  },
  {
   "cell_type": "code",
   "execution_count": null,
   "metadata": {},
   "outputs": [],
   "source": [
    "'''\n",
    "tg.SetPoint(tg.GetN(),angle, CoS)\n",
    "tg.SetLineColor(col)\n",
    "col=col+1\n",
    "tm.Add(tg)\n",
    "'''"
   ]
  },
  {
   "cell_type": "code",
   "execution_count": null,
   "metadata": {},
   "outputs": [],
   "source": [
    "tc=r.TCanvas()\n",
    "tc.cd()\n",
    "tm.SetMinimum(0)\n",
    "# can use TLegend to add a legend\n",
    "'''\n",
    "legend = TLegend(0.73, 0.32 , 0.97, 0.53)\n",
    "legend.SetTitle('Grouped by energy MeV')\n",
    "legend.SetMarkerColor(7)\n",
    "legend.AddEntry(tm, 'Graph showing angular dependence of C/S')\n",
    "legend.Draw()\n",
    "'''\n",
    "tm.SetTitle(\"C/S vs angle;angle;C/S\")\n",
    "tm.Draw(\"al\")\n",
    "tc.Draw()"
   ]
  },
  {
   "cell_type": "code",
   "execution_count": null,
   "metadata": {},
   "outputs": [],
   "source": [
    "#histo = gPad.GetPrimitive('htemp')"
   ]
  },
  {
   "cell_type": "code",
   "execution_count": 10,
   "metadata": {},
   "outputs": [],
   "source": [
    "fileNames=[]  # tgraphs\n",
    "col=1 #this is defining the color of the lines \n",
    "for energy in E:\n",
    "    for angle in theta:\n",
    "        fileNames.append(myDir+\"angle\"+str(angle)+\"E\"+str(energy)+\"MeV.root\")"
   ]
  },
  {
   "cell_type": "code",
   "execution_count": 11,
   "metadata": {},
   "outputs": [
    {
     "name": "stdout",
     "output_type": "stream",
     "text": [
      "['/home/sonakshi/single_bar/angle0E9MeV.root', '/home/sonakshi/single_bar/angle45E9MeV.root', '/home/sonakshi/single_bar/angle60E9MeV.root', '/home/sonakshi/single_bar/angle90E9MeV.root', '/home/sonakshi/single_bar/angle0E18MeV.root', '/home/sonakshi/single_bar/angle45E18MeV.root', '/home/sonakshi/single_bar/angle60E18MeV.root', '/home/sonakshi/single_bar/angle90E18MeV.root', '/home/sonakshi/single_bar/angle0E36MeV.root', '/home/sonakshi/single_bar/angle45E36MeV.root', '/home/sonakshi/single_bar/angle60E36MeV.root', '/home/sonakshi/single_bar/angle90E36MeV.root', '/home/sonakshi/single_bar/angle0E72MeV.root', '/home/sonakshi/single_bar/angle45E72MeV.root', '/home/sonakshi/single_bar/angle60E72MeV.root', '/home/sonakshi/single_bar/angle90E72MeV.root']\n"
     ]
    }
   ],
   "source": [
    "print (fileNames)"
   ]
  },
  {
   "cell_type": "code",
   "execution_count": 12,
   "metadata": {},
   "outputs": [
    {
     "name": "stdout",
     "output_type": "stream",
     "text": [
      "Name: /home/sonakshi/single_bar/angle0E9MeV.root Title: \n"
     ]
    },
    {
     "data": {
      "text/plain": [
       "['AbstractMethod',\n",
       " 'AddAllocationCount',\n",
       " 'AddBranchToCache',\n",
       " 'AddClone',\n",
       " 'AddFriend',\n",
       " 'AddTotBytes',\n",
       " 'AddZipBytes',\n",
       " 'AppendPad',\n",
       " 'AsMatrix',\n",
       " 'AutoSave',\n",
       " 'Branch',\n",
       " 'BranchOld',\n",
       " 'BranchRef',\n",
       " 'Bronch',\n",
       " 'Browse',\n",
       " 'BuildIndex',\n",
       " 'BuildStreamerInfo',\n",
       " 'ChangeFile',\n",
       " 'CheckedHash',\n",
       " 'Class',\n",
       " 'ClassName',\n",
       " 'Class_Name',\n",
       " 'Class_Version',\n",
       " 'Clear',\n",
       " 'Clone',\n",
       " 'CloneTree',\n",
       " 'Compare',\n",
       " 'Copy',\n",
       " 'CopyAddresses',\n",
       " 'CopyEntries',\n",
       " 'CopyTree',\n",
       " 'CreateBasket',\n",
       " 'Debug',\n",
       " 'DeclFileLine',\n",
       " 'DeclFileName',\n",
       " 'Delete',\n",
       " 'Dictionary',\n",
       " 'DirectoryAutoAdd',\n",
       " 'DistancetoLine',\n",
       " 'DistancetoPrimitive',\n",
       " 'Draw',\n",
       " 'DrawClass',\n",
       " 'DrawClone',\n",
       " 'DropBaskets',\n",
       " 'DropBranchFromCache',\n",
       " 'DropBuffers',\n",
       " 'Dump',\n",
       " 'Error',\n",
       " 'Execute',\n",
       " 'ExecuteEvent',\n",
       " 'Fatal',\n",
       " 'Fill',\n",
       " 'FillBuffer',\n",
       " 'FindBranch',\n",
       " 'FindLeaf',\n",
       " 'FindObject',\n",
       " 'Fit',\n",
       " 'FlushBaskets',\n",
       " 'GetAlias',\n",
       " 'GetAllocationCount',\n",
       " 'GetAutoFlush',\n",
       " 'GetAutoSave',\n",
       " 'GetBranch',\n",
       " 'GetBranchRef',\n",
       " 'GetBranchStatus',\n",
       " 'GetBranchStyle',\n",
       " 'GetCacheSize',\n",
       " 'GetChainEntryNumber',\n",
       " 'GetChainOffset',\n",
       " 'GetClusterIterator',\n",
       " 'GetClusterPrefetch',\n",
       " 'GetCurrentFile',\n",
       " 'GetDebugMax',\n",
       " 'GetDebugMin',\n",
       " 'GetDefaultEntryOffsetLen',\n",
       " 'GetDirectory',\n",
       " 'GetDrawOption',\n",
       " 'GetDtorOnly',\n",
       " 'GetEntries',\n",
       " 'GetEntriesFast',\n",
       " 'GetEntriesFriend',\n",
       " 'GetEntry',\n",
       " 'GetEntryList',\n",
       " 'GetEntryNumber',\n",
       " 'GetEntryNumberWithBestIndex',\n",
       " 'GetEntryNumberWithIndex',\n",
       " 'GetEntryWithIndex',\n",
       " 'GetEstimate',\n",
       " 'GetEvent',\n",
       " 'GetEventList',\n",
       " 'GetFileNumber',\n",
       " 'GetFillColor',\n",
       " 'GetFillStyle',\n",
       " 'GetFriend',\n",
       " 'GetFriendAlias',\n",
       " 'GetHistogram',\n",
       " 'GetIOFeatures',\n",
       " 'GetIconName',\n",
       " 'GetImplicitMT',\n",
       " 'GetIndex',\n",
       " 'GetIndexValues',\n",
       " 'GetIteratorOnAllLeaves',\n",
       " 'GetLeaf',\n",
       " 'GetLineColor',\n",
       " 'GetLineStyle',\n",
       " 'GetLineWidth',\n",
       " 'GetListOfAliases',\n",
       " 'GetListOfBranches',\n",
       " 'GetListOfClones',\n",
       " 'GetListOfFriends',\n",
       " 'GetListOfLeaves',\n",
       " 'GetMakeClass',\n",
       " 'GetMarkerColor',\n",
       " 'GetMarkerLineWidth',\n",
       " 'GetMarkerSize',\n",
       " 'GetMarkerStyle',\n",
       " 'GetMarkerStyleBase',\n",
       " 'GetMaxEntryLoop',\n",
       " 'GetMaxTreeSize',\n",
       " 'GetMaxVirtualSize',\n",
       " 'GetMaximum',\n",
       " 'GetMinimum',\n",
       " 'GetName',\n",
       " 'GetNbranches',\n",
       " 'GetNotify',\n",
       " 'GetObjectInfo',\n",
       " 'GetObjectStat',\n",
       " 'GetOption',\n",
       " 'GetPacketSize',\n",
       " 'GetPerfStats',\n",
       " 'GetPlayer',\n",
       " 'GetReadCache',\n",
       " 'GetReadEntry',\n",
       " 'GetReadEvent',\n",
       " 'GetScanField',\n",
       " 'GetSelect',\n",
       " 'GetSelectedRows',\n",
       " 'GetTargetMemoryRatio',\n",
       " 'GetTimerInterval',\n",
       " 'GetTitle',\n",
       " 'GetTotBytes',\n",
       " 'GetTransientBuffer',\n",
       " 'GetTree',\n",
       " 'GetTreeIndex',\n",
       " 'GetTreeNumber',\n",
       " 'GetUniqueID',\n",
       " 'GetUpdate',\n",
       " 'GetUserInfo',\n",
       " 'GetV1',\n",
       " 'GetV2',\n",
       " 'GetV3',\n",
       " 'GetV4',\n",
       " 'GetVal',\n",
       " 'GetVar',\n",
       " 'GetVar1',\n",
       " 'GetVar2',\n",
       " 'GetVar3',\n",
       " 'GetVar4',\n",
       " 'GetW',\n",
       " 'GetWeight',\n",
       " 'GetZipBytes',\n",
       " 'HandleTimer',\n",
       " 'HasInconsistentHash',\n",
       " 'Hash',\n",
       " 'ImplFileLine',\n",
       " 'ImplFileName',\n",
       " 'IncrementTotalBuffers',\n",
       " 'Info',\n",
       " 'InheritsFrom',\n",
       " 'Inspect',\n",
       " 'InvertBit',\n",
       " 'IsA',\n",
       " 'IsEqual',\n",
       " 'IsFolder',\n",
       " 'IsOnHeap',\n",
       " 'IsSortable',\n",
       " 'IsTransparent',\n",
       " 'IsZombie',\n",
       " 'LoadBaskets',\n",
       " 'LoadTree',\n",
       " 'LoadTreeFriend',\n",
       " 'MakeClass',\n",
       " 'MakeCode',\n",
       " 'MakeProxy',\n",
       " 'MakeSelector',\n",
       " 'MayNotUse',\n",
       " 'MemoryFull',\n",
       " 'Merge',\n",
       " 'MergeTrees',\n",
       " 'Modify',\n",
       " 'Notify',\n",
       " 'Obsolete',\n",
       " 'OptimizeBaskets',\n",
       " 'Paint',\n",
       " 'Pop',\n",
       " 'Principal',\n",
       " 'Print',\n",
       " 'PrintCacheStats',\n",
       " 'Process',\n",
       " 'Project',\n",
       " 'Query',\n",
       " 'Read',\n",
       " 'ReadFile',\n",
       " 'ReadStream',\n",
       " 'RecursiveRemove',\n",
       " 'Refresh',\n",
       " 'RegisterExternalFriend',\n",
       " 'RemoveExternalFriend',\n",
       " 'RemoveFriend',\n",
       " 'Reset',\n",
       " 'ResetAfterMerge',\n",
       " 'ResetAttFill',\n",
       " 'ResetAttLine',\n",
       " 'ResetAttMarker',\n",
       " 'ResetBit',\n",
       " 'ResetBranchAddress',\n",
       " 'ResetBranchAddresses',\n",
       " 'SaveAs',\n",
       " 'SaveFillAttributes',\n",
       " 'SaveLineAttributes',\n",
       " 'SaveMarkerAttributes',\n",
       " 'SavePrimitive',\n",
       " 'Scan',\n",
       " 'SetAlias',\n",
       " 'SetAutoFlush',\n",
       " 'SetAutoSave',\n",
       " 'SetBasketSize',\n",
       " 'SetBit',\n",
       " 'SetBranchAddress',\n",
       " 'SetBranchStatus',\n",
       " 'SetBranchStyle',\n",
       " 'SetCacheEntryRange',\n",
       " 'SetCacheLearnEntries',\n",
       " 'SetCacheSize',\n",
       " 'SetChainOffset',\n",
       " 'SetCircular',\n",
       " 'SetClusterPrefetch',\n",
       " 'SetDebug',\n",
       " 'SetDefaultEntryOffsetLen',\n",
       " 'SetDirectory',\n",
       " 'SetDrawOption',\n",
       " 'SetDtorOnly',\n",
       " 'SetEntries',\n",
       " 'SetEntryList',\n",
       " 'SetEstimate',\n",
       " 'SetEventList',\n",
       " 'SetFileNumber',\n",
       " 'SetFillAttributes',\n",
       " 'SetFillColor',\n",
       " 'SetFillColorAlpha',\n",
       " 'SetFillStyle',\n",
       " 'SetIOFeatures',\n",
       " 'SetImplicitMT',\n",
       " 'SetLineAttributes',\n",
       " 'SetLineColor',\n",
       " 'SetLineColorAlpha',\n",
       " 'SetLineStyle',\n",
       " 'SetLineWidth',\n",
       " 'SetMakeClass',\n",
       " 'SetMarkerAttributes',\n",
       " 'SetMarkerColor',\n",
       " 'SetMarkerColorAlpha',\n",
       " 'SetMarkerSize',\n",
       " 'SetMarkerStyle',\n",
       " 'SetMaxEntryLoop',\n",
       " 'SetMaxTreeSize',\n",
       " 'SetMaxVirtualSize',\n",
       " 'SetName',\n",
       " 'SetNameTitle',\n",
       " 'SetNotify',\n",
       " 'SetObject',\n",
       " 'SetObjectStat',\n",
       " 'SetParallelUnzip',\n",
       " 'SetPerfStats',\n",
       " 'SetScanField',\n",
       " 'SetTargetMemoryRatio',\n",
       " 'SetTimerInterval',\n",
       " 'SetTitle',\n",
       " 'SetTreeIndex',\n",
       " 'SetUniqueID',\n",
       " 'SetUpdate',\n",
       " 'SetWeight',\n",
       " 'Show',\n",
       " 'ShowMembers',\n",
       " 'Sizeof',\n",
       " 'StartViewer',\n",
       " 'StopCacheLearningPhase',\n",
       " 'Streamer',\n",
       " 'StreamerNVirtual',\n",
       " 'SysError',\n",
       " 'TestBit',\n",
       " 'TestBits',\n",
       " 'UnbinnedFit',\n",
       " 'UseCurrentStyle',\n",
       " 'Warning',\n",
       " 'Write',\n",
       " '_OriginalBranch',\n",
       " '_OriginalSetBranchAddress',\n",
       " '__add__',\n",
       " '__assign__',\n",
       " '__bool__',\n",
       " '__class__',\n",
       " '__contains__',\n",
       " '__delattr__',\n",
       " '__destruct__',\n",
       " '__dict__',\n",
       " '__dir__',\n",
       " '__dispatch__',\n",
       " '__doc__',\n",
       " '__eq__',\n",
       " '__format__',\n",
       " '__ge__',\n",
       " '__getattr__',\n",
       " '__getattribute__',\n",
       " '__gt__',\n",
       " '__hash__',\n",
       " '__init__',\n",
       " '__init_subclass__',\n",
       " '__invert__',\n",
       " '__iter__',\n",
       " '__le__',\n",
       " '__lt__',\n",
       " '__module__',\n",
       " '__mul__',\n",
       " '__ne__',\n",
       " '__neg__',\n",
       " '__new__',\n",
       " '__pos__',\n",
       " '__python_owns__',\n",
       " '__radd__',\n",
       " '__reduce__',\n",
       " '__reduce_ex__',\n",
       " '__repr__',\n",
       " '__rmul__',\n",
       " '__rsub__',\n",
       " '__rtruediv__',\n",
       " '__setattr__',\n",
       " '__sizeof__',\n",
       " '__smartptr__',\n",
       " '__str__',\n",
       " '__sub__',\n",
       " '__subclasshook__',\n",
       " '__truediv__',\n",
       " '__weakref__',\n",
       " 'kBitMask',\n",
       " 'kCanDelete',\n",
       " 'kCannotPick',\n",
       " 'kCircular',\n",
       " 'kClassMismatch',\n",
       " 'kDecomposedObjMask',\n",
       " 'kEntriesReshuffled',\n",
       " 'kForceRead',\n",
       " 'kHasUUID',\n",
       " 'kInconsistent',\n",
       " 'kInternalError',\n",
       " 'kInvalidObject',\n",
       " 'kIsOnHeap',\n",
       " 'kIsReferenced',\n",
       " 'kMakeClass',\n",
       " 'kMatch',\n",
       " 'kMatchConversion',\n",
       " 'kMatchConversionCollection',\n",
       " 'kMaxEntries',\n",
       " 'kMismatch',\n",
       " 'kMissingBranch',\n",
       " 'kMissingCompiledCollectionProxy',\n",
       " 'kMustCleanup',\n",
       " 'kNeedDisableDecomposedObj',\n",
       " 'kNeedEnableDecomposedObj',\n",
       " 'kNoCheck',\n",
       " 'kNoContextMenu',\n",
       " 'kNotDeleted',\n",
       " 'kObjInCanvas',\n",
       " 'kOnlyFlushAtCluster',\n",
       " 'kOverwrite',\n",
       " 'kSingleKey',\n",
       " 'kSplitCollectionOfPointers',\n",
       " 'kVoidPtr',\n",
       " 'kWriteDelete',\n",
       " 'kZombie',\n",
       " 'ls']"
      ]
     },
     "execution_count": 12,
     "metadata": {},
     "output_type": "execute_result"
    }
   ],
   "source": [
    "oneFile = r.TFile.Open(fileNames[0])\n",
    "print (oneFile)\n",
    "oneTree = oneFile.Get(\"tree\")\n",
    "dir(oneTree)"
   ]
  },
  {
   "cell_type": "code",
   "execution_count": 14,
   "metadata": {},
   "outputs": [],
   "source": [
    "branchNames = []\n",
    "for b in oneTree.GetListOfBranches():\n",
    "    branchNames.append(b.GetName())"
   ]
  },
  {
   "cell_type": "code",
   "execution_count": 15,
   "metadata": {},
   "outputs": [
    {
     "name": "stdout",
     "output_type": "stream",
     "text": [
      "['Event', 'inputTrackerX0', 'inputServiceAlmm', 'inputTimingThick', 'inputE1Thick', 'inputE2Thick', 'inputE1Width', 'inputTimingECAL_dist', 'inputInitialPosition', 'inputMomentum', 'primaryPosT1', 'primaryMomT1', 'primaryPosE1', 'primaryMomE1', 'nTracksT1', 'nTracksT2', 'nTracksE1', 'nTracksE2', 'nTracksTRK', 'depositedEnergyTotal', 'depositedEnergyEscapeWorld', 'depositedEnergyTiming_f', 'depositedEnergyTiming_r', 'depositedEnergyECAL_f', 'depositedEnergyECAL_r', 'depositedEnergyHCALAct', 'depositedEnergyHCALPas', 'depositedEnergyWorld', 'depositedEnergyTimingGap', 'depositedEnergyServices', 'depositedEnergyEcalGap', 'depositedEnergyEcalDet', 'depositedEnergySolenoid', 'depositedIonEnergyTotal', 'depositedIonEnergyTiming_f', 'depositedIonEnergyTiming_r', 'depositedIonEnergyECAL_f', 'depositedIonEnergyECAL_r', 'depositedIonEnergyHCALAct', 'depositedIonEnergyHCALPas', 'depositedIonEnergyWorld', 'depositedIonEnergyTimingGap', 'depositedIonEnergyServices', 'depositedIonEnergyEcalGap', 'depositedIonEnergyEcalDet', 'depositedIonEnergySolenoid', 'depositedElecEnergyTotal', 'depositedElecEnergyTiming_f', 'depositedElecEnergyTiming_r', 'depositedElecEnergyECAL_f', 'depositedElecEnergyECAL_r', 'depositedElecEnergyHCALAct', 'depositedElecEnergyHCALPas', 'depositedElecEnergyWorld', 'depositedElecEnergyTimingGap', 'depositedElecEnergyServices', 'depositedElecEnergyEcalGap', 'depositedElecEnergyEcalDet', 'depositedElecEnergySolenoid', 'Edep_Tracker_layer', 'tot_phot_cer_Timing_f_total', 'tot_phot_cer_Timing_r_total', 'ECAL_f_total_S', 'ECAL_f_total_C', 'ECAL_r_total_S', 'ECAL_r_total_C', 'SDdetected_ff_S', 'SDdetected_ff_C', 'SDdetected_rr_S', 'SDdetected_rr_C']\n"
     ]
    }
   ],
   "source": [
    "print (branchNames)"
   ]
  },
  {
   "cell_type": "code",
   "execution_count": 16,
   "metadata": {},
   "outputs": [],
   "source": [
    "lastFour = branchNames[-4:]"
   ]
  },
  {
   "cell_type": "code",
   "execution_count": 17,
   "metadata": {},
   "outputs": [
    {
     "name": "stdout",
     "output_type": "stream",
     "text": [
      "['SDdetected_ff_S', 'SDdetected_ff_C', 'SDdetected_rr_S', 'SDdetected_rr_C']\n",
      "Help on function getAverage in module __main__:\n",
      "\n",
      "getAverage(filename, branchname)\n",
      "\n"
     ]
    }
   ],
   "source": [
    "print (lastFour)\n",
    "help(getAverage)"
   ]
  },
  {
   "cell_type": "code",
   "execution_count": 18,
   "metadata": {},
   "outputs": [],
   "source": [
    "results = {}\n",
    "for file in fileNames:\n",
    "    results[os.path.basename(file)]={}\n",
    "    for branch in lastFour:\n",
    "        results[os.path.basename(file)][branch]= getAverage(file, branch)\n",
    "        "
   ]
  },
  {
   "cell_type": "code",
   "execution_count": 19,
   "metadata": {},
   "outputs": [
    {
     "name": "stdout",
     "output_type": "stream",
     "text": [
      "{'angle0E18MeV.root': {'SDdetected_ff_C': 47.478,\n",
      "                       'SDdetected_ff_S': 458.314,\n",
      "                       'SDdetected_rr_C': 55.496,\n",
      "                       'SDdetected_rr_S': 262.314},\n",
      " 'angle0E36MeV.root': {'SDdetected_ff_C': 69.258,\n",
      "                       'SDdetected_ff_S': 907.604,\n",
      "                       'SDdetected_rr_C': 96.238,\n",
      "                       'SDdetected_rr_S': 556.404},\n",
      " 'angle0E72MeV.root': {'SDdetected_ff_C': 127.374,\n",
      "                       'SDdetected_ff_S': 1844.52,\n",
      "                       'SDdetected_rr_C': 177.872,\n",
      "                       'SDdetected_rr_S': 1224.906},\n",
      " 'angle0E9MeV.root': {'SDdetected_ff_C': 16.488,\n",
      "                      'SDdetected_ff_S': 98.77,\n",
      "                      'SDdetected_rr_C': 14.702,\n",
      "                      'SDdetected_rr_S': 54.406},\n",
      " 'angle45E18MeV.root': {'SDdetected_ff_C': 45.12,\n",
      "                        'SDdetected_ff_S': 466.474,\n",
      "                        'SDdetected_rr_C': 92.162,\n",
      "                        'SDdetected_rr_S': 461.372},\n",
      " 'angle45E36MeV.root': {'SDdetected_ff_C': 52.682,\n",
      "                        'SDdetected_ff_S': 706.474,\n",
      "                        'SDdetected_rr_C': 149.034,\n",
      "                        'SDdetected_rr_S': 705.99},\n",
      " 'angle45E72MeV.root': {'SDdetected_ff_C': 66.22,\n",
      "                        'SDdetected_ff_S': 981.758,\n",
      "                        'SDdetected_rr_C': 219.258,\n",
      "                        'SDdetected_rr_S': 989.226},\n",
      " 'angle45E9MeV.root': {'SDdetected_ff_C': 28.572,\n",
      "                       'SDdetected_ff_S': 256.318,\n",
      "                       'SDdetected_rr_C': 46.506,\n",
      "                       'SDdetected_rr_S': 247.122},\n",
      " 'angle60E18MeV.root': {'SDdetected_ff_C': 52.584,\n",
      "                        'SDdetected_ff_S': 466.438,\n",
      "                        'SDdetected_rr_C': 89.36,\n",
      "                        'SDdetected_rr_S': 460.75},\n",
      " 'angle60E36MeV.root': {'SDdetected_ff_C': 61.644,\n",
      "                        'SDdetected_ff_S': 669.874,\n",
      "                        'SDdetected_rr_C': 144.14,\n",
      "                        'SDdetected_rr_S': 669.082},\n",
      " 'angle60E72MeV.root': {'SDdetected_ff_C': 58.984,\n",
      "                        'SDdetected_ff_S': 796.312,\n",
      "                        'SDdetected_rr_C': 183.888,\n",
      "                        'SDdetected_rr_S': 801.012},\n",
      " 'angle60E9MeV.root': {'SDdetected_ff_C': 33.562,\n",
      "                       'SDdetected_ff_S': 267.05,\n",
      "                       'SDdetected_rr_C': 49.63,\n",
      "                       'SDdetected_rr_S': 261.858},\n",
      " 'angle90E18MeV.root': {'SDdetected_ff_C': 78.018,\n",
      "                        'SDdetected_ff_S': 470.286,\n",
      "                        'SDdetected_rr_C': 77.444,\n",
      "                        'SDdetected_rr_S': 467.844},\n",
      " 'angle90E36MeV.root': {'SDdetected_ff_C': 107.73,\n",
      "                        'SDdetected_ff_S': 615.878,\n",
      "                        'SDdetected_rr_C': 106.506,\n",
      "                        'SDdetected_rr_S': 611.632},\n",
      " 'angle90E72MeV.root': {'SDdetected_ff_C': 117.496,\n",
      "                        'SDdetected_ff_S': 656.072,\n",
      "                        'SDdetected_rr_C': 124.314,\n",
      "                        'SDdetected_rr_S': 658.01},\n",
      " 'angle90E9MeV.root': {'SDdetected_ff_C': 44.978,\n",
      "                       'SDdetected_ff_S': 278.692,\n",
      "                       'SDdetected_rr_C': 46.406,\n",
      "                       'SDdetected_rr_S': 278.624}}\n"
     ]
    }
   ],
   "source": [
    "from pprint import pprint\n",
    "pprint (results)"
   ]
  },
  {
   "cell_type": "code",
   "execution_count": 28,
   "metadata": {},
   "outputs": [
    {
     "name": "stdout",
     "output_type": "stream",
     "text": [
      "278.624\n",
      "46.406\n",
      "6.0040512002758275\n"
     ]
    }
   ],
   "source": [
    "new1 = results[\"angle90E18MeV.root\"][\"SDdetected_rr_S\"]\n",
    "new2 = results[\"angle90E9MeV.root\"][\"SDdetected_rr_C\"]\n",
    "print(new1)\n",
    "print(new2)\n",
    "print(new1/new2)"
   ]
  },
  {
   "cell_type": "code",
   "execution_count": 38,
   "metadata": {},
   "outputs": [
    {
     "name": "stdout",
     "output_type": "stream",
     "text": [
      "467.844\n"
     ]
    }
   ],
   "source": [
    "myKey = \"angle90E18MeV.root\"\n",
    "\n",
    "print( results[myKey][\"SDdetected_rr_S\"])\n"
   ]
  },
  {
   "cell_type": "code",
   "execution_count": 21,
   "metadata": {},
   "outputs": [
    {
     "name": "stdout",
     "output_type": "stream",
     "text": [
      "0.1488508656474638\n",
      "0.18143868163765323\n",
      "0.18584534731323724\n",
      "0.16651357053664978\n",
      "0.12108728950021165\n",
      "0.1975715688334184\n",
      "0.19157958828397342\n",
      "0.16467426204479826\n",
      "0.10603523122419029\n",
      "0.21095468481501087\n",
      "0.21517479406574966\n",
      "0.1729336004858105\n",
      "0.0964326762518162\n",
      "0.22333202275917283\n",
      "0.230924562231889\n",
      "0.18948225194795693\n"
     ]
    }
   ],
   "source": [
    "for i in results.keys():\n",
    "    #print (i)\n",
    "    #print (results[i]['SDdetected_ff_C'])\n",
    "    cos = results[i]['SDdetected_rr_C']/results[i]['SDdetected_ff_S']\n",
    "    print (cos)"
   ]
  },
  {
   "cell_type": "code",
   "execution_count": 46,
   "metadata": {},
   "outputs": [
    {
     "name": "stdout",
     "output_type": "stream",
     "text": [
      "0.16142902262547376\n",
      "0.16676071511016494\n",
      "0.176135323200879\n",
      "0.17856263582620324\n"
     ]
    }
   ],
   "source": [
    "graph = r.TGraph()\n",
    "energy = [9,18,36,72]\n",
    "angle = 90\n",
    "counter = 0\n",
    "for e in energy:\n",
    "    myKey ='angle90'+'E'+str(e)+'MeV.root'\n",
    "    key = results[myKey][\"SDdetected_rr_S\"]\n",
    "    key2=results[myKey][\"SDdetected_ff_C\"]\n",
    "    cos2 = key2/key\n",
    "    print(cos2)\n",
    "    graph.SetPoint(counter, e, cos2) \n",
    "    counter +=1\n",
    "    "
   ]
  },
  {
   "cell_type": "code",
   "execution_count": 57,
   "metadata": {},
   "outputs": [
    {
     "data": {
      "image/png": "[encoded data removed]",
      "text/plain": [
       "<IPython.core.display.Image object>"
      ]
     },
     "metadata": {},
     "output_type": "display_data"
    }
   ],
   "source": [
    "make_canvas3 = r.TCanvas()\n",
    "make_canvas3.cd()\n",
    "graph.Draw()\n",
    "graph.GetXaxis().SetTitle(\"E (MeV)\")\n",
    "graph.SetMarkerStyle(20)\n",
    "make_canvas3.Draw()\n"
   ]
  },
  {
   "cell_type": "code",
   "execution_count": null,
   "metadata": {},
   "outputs": [],
   "source": []
  }
 ],
 "metadata": {
  "kernelspec": {
   "display_name": "Python 3",
   "language": "python",
   "name": "python3"
  },
  "language_info": {
   "codemirror_mode": {
    "name": "ipython",
    "version": 3
   },
   "file_extension": ".py",
   "mimetype": "text/x-python",
   "name": "python",
   "nbconvert_exporter": "python",
   "pygments_lexer": "ipython3",
   "version": "3.8.8"
  }
 },
 "nbformat": 4,
 "nbformat_minor": 4
}
