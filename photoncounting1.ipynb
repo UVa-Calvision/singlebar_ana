{
 "cells": [
  {
   "cell_type": "markdown",
   "metadata": {},
   "source": [
    "Example of pulling photon counts from trees"
   ]
  },
  {
   "cell_type": "code",
   "execution_count": 10,
   "metadata": {},
   "outputs": [],
   "source": [
    "#importing the required libraries \n",
    "import ROOT as r\n",
    "import os, os.path"
   ]
  },
  {
   "cell_type": "markdown",
   "metadata": {},
   "source": [
    "For documentation on data files, see https://github.com/UVa-Calvision/singlebar2"
   ]
  },
  {
   "cell_type": "code",
   "execution_count": 11,
   "metadata": {},
   "outputs": [
    {
     "name": "stdout",
     "output_type": "stream",
     "text": [
      "air_gap  og_gap  si_gap\n"
     ]
    }
   ],
   "source": [
    "dataDir='/project/HEP_EF/calvision/singlebar2'\n",
    "!ls {dataDir}\n",
    "#!ls {dataDir}/*gap/*root"
   ]
  },
  {
   "cell_type": "code",
   "execution_count": 12,
   "metadata": {},
   "outputs": [],
   "source": [
    "E=['300MeV','1GeV','3GeV','10GeV','30GeV']\n",
    "eGeV={'300MeV':0.3,'1GeV':1,'3GeV':3,'10GeV':10,'30GeV':30}\n",
    "particles=['pi','mu','el']"
   ]
  },
  {
   "cell_type": "code",
   "execution_count": 13,
   "metadata": {},
   "outputs": [
    {
     "name": "stdout",
     "output_type": "stream",
     "text": [
      "/project/HEP_EF/calvision/singlebar2/pi_300MeV.root\n",
      "/project/HEP_EF/calvision/singlebar2/pi_1GeV.root\n",
      "/project/HEP_EF/calvision/singlebar2/pi_3GeV.root\n",
      "/project/HEP_EF/calvision/singlebar2/pi_10GeV.root\n",
      "/project/HEP_EF/calvision/singlebar2/pi_30GeV.root\n",
      "/project/HEP_EF/calvision/singlebar2/mu_300MeV.root\n",
      "/project/HEP_EF/calvision/singlebar2/mu_1GeV.root\n",
      "/project/HEP_EF/calvision/singlebar2/mu_3GeV.root\n",
      "/project/HEP_EF/calvision/singlebar2/mu_10GeV.root\n",
      "/project/HEP_EF/calvision/singlebar2/mu_30GeV.root\n",
      "/project/HEP_EF/calvision/singlebar2/el_300MeV.root\n",
      "/project/HEP_EF/calvision/singlebar2/el_1GeV.root\n",
      "/project/HEP_EF/calvision/singlebar2/el_3GeV.root\n",
      "/project/HEP_EF/calvision/singlebar2/el_10GeV.root\n",
      "/project/HEP_EF/calvision/singlebar2/el_30GeV.root\n"
     ]
    }
   ],
   "source": [
    "for p in particles:\n",
    "    for e in E:\n",
    "        file=f'{dataDir}/{p}_{e}.root'\n",
    "        print(file)"
   ]
  },
  {
   "cell_type": "markdown",
   "metadata": {
    "tags": []
   },
   "source": [
    "Classes used\n",
    "- [TFile](https://root.cern.ch/doc/master/classTFile.html)\n",
    "- [TTree](https://root.cern.ch/doc/master/classTTree.html)"
   ]
  },
  {
   "cell_type": "code",
   "execution_count": 14,
   "metadata": {},
   "outputs": [
    {
     "name": "stdout",
     "output_type": "stream",
     "text": [
      "TFile**\t\t/project/HEP_EF/calvision/singlebar2/air_gap/el_10GeV.root\t\n",
      " TFile*\t\t/project/HEP_EF/calvision/singlebar2/air_gap/el_10GeV.root\t\n",
      "  KEY: TTree\ttree;1\ttree\n",
      "  KEY: TH1F\th_phot_lambda_ECAL_f_produce_Ceren;1\t\n",
      "  KEY: TH1F\th_phot_lambda_ECAL_f_produce_Scin;1\t\n",
      "  KEY: TH1F\th_phot_lambda_ECAL_r_produce_Ceren;1\t\n",
      "  KEY: TH1F\th_phot_lambda_ECAL_r_produce_Scin;1\t\n",
      "  KEY: TH1F\th_phot_time_ECAL_f_produce_Ceren;1\t\n",
      "  KEY: TH1F\th_phot_time_ECAL_f_produce_Scin;1\t\n",
      "  KEY: TH1F\th_phot_time_ECAL_r_produce_Ceren;1\t\n",
      "  KEY: TH1F\th_phot_time_ECAL_r_produce_Scin;1\t\n",
      "  KEY: TH1F\th_phot_time_SiPMF_Ceren;1\t\n",
      "  KEY: TH1F\th_phot_time_SiPMF_Scin;1\t\n",
      "  KEY: TH1F\th_phot_time_SiPMC_Ceren;1\t\n",
      "  KEY: TH1F\th_phot_time_SiPMC_Scin;1\t\n",
      "  KEY: TH1F\th_phot_time_SiPMS_Ceren;1\t\n",
      "  KEY: TH1F\th_phot_time_SiPMS_Scin;1\t\n",
      "  KEY: TH1F\th_phot_lambda_SiPMF_f_Ceren;1\t\n",
      "  KEY: TH1F\th_phot_lambda_SiPMF_f_Scin;1\t\n",
      "  KEY: TH1F\th_phot_lambda_SiPMC_r_Ceren;1\t\n",
      "  KEY: TH1F\th_phot_lambda_SiPMC_r_Scin;1\t\n",
      "  KEY: TH1F\th_phot_lambda_SiPMS_r_Ceren;1\t\n",
      "  KEY: TH1F\th_phot_lambda_SiPMS_r_Scin;1\t\n",
      "******************************************************************************\n",
      "*Tree    :tree      : tree                                                   *\n",
      "*Entries :      500 : Total =          132476 bytes  File  Size =      47270 *\n",
      "*        :          : Tree compression factor =   2.50                       *\n",
      "******************************************************************************\n",
      "*Br    0 :Event     : Event/I                                                *\n",
      "*Entries :      500 : Total  Size=       2557 bytes  File Size  =        817 *\n",
      "*Baskets :        1 : Basket Size=      32000 bytes  Compression=   2.54     *\n",
      "*............................................................................*\n",
      "*Br    1 :inputInitialPosition : vector<float>                               *\n",
      "*Entries :      500 : Total  Size=      13644 bytes  File Size  =       5513 *\n",
      "*Baskets :        1 : Basket Size=      32000 bytes  Compression=   2.38     *\n",
      "*............................................................................*\n",
      "*Br    2 :inputMomentum : vector<float>                                      *\n",
      "*Entries :      500 : Total  Size=      15609 bytes  File Size  =       1111 *\n",
      "*Baskets :        1 : Basket Size=      32000 bytes  Compression=  13.58     *\n",
      "*............................................................................*\n",
      "*Br    3 :primaryID : primaryID/I                                            *\n",
      "*Entries :      500 : Total  Size=       2577 bytes  File Size  =        118 *\n",
      "*Baskets :        1 : Basket Size=      32000 bytes  Compression=  17.59     *\n",
      "*............................................................................*\n",
      "*Br    4 :depositedEnergyEcalFront : depositedEnergyEcalFront/F              *\n",
      "*Entries :      500 : Total  Size=       2652 bytes  File Size  =        133 *\n",
      "*Baskets :        1 : Basket Size=      32000 bytes  Compression=  15.72     *\n",
      "*............................................................................*\n",
      "*Br    5 :depositedEnergyTotal : depositedEnergyTotal/F                      *\n",
      "*Entries :      500 : Total  Size=       2632 bytes  File Size  =       1769 *\n",
      "*Baskets :        1 : Basket Size=      32000 bytes  Compression=   1.18     *\n",
      "*............................................................................*\n",
      "*Br    6 :depositedEnergyEscapeWorld : depositedEnergyEscapeWorld/F          *\n",
      "*Entries :      500 : Total  Size=       2662 bytes  File Size  =       1804 *\n",
      "*Baskets :        1 : Basket Size=      32000 bytes  Compression=   1.16     *\n",
      "*............................................................................*\n",
      "*Br    7 :depositedEnergyECAL_f : depositedEnergyECAL_f/F                    *\n",
      "*Entries :      500 : Total  Size=       2637 bytes  File Size  =       1850 *\n",
      "*Baskets :        1 : Basket Size=      32000 bytes  Compression=   1.13     *\n",
      "*............................................................................*\n",
      "*Br    8 :depositedEnergyECAL_r : depositedEnergyECAL_r/F                    *\n",
      "*Entries :      500 : Total  Size=       2637 bytes  File Size  =       1887 *\n",
      "*Baskets :        1 : Basket Size=      32000 bytes  Compression=   1.11     *\n",
      "*............................................................................*\n",
      "*Br    9 :depositedEnergyWorld : depositedEnergyWorld/F                      *\n",
      "*Entries :      500 : Total  Size=       2632 bytes  File Size  =        125 *\n",
      "*Baskets :        1 : Basket Size=      32000 bytes  Compression=  16.70     *\n",
      "*............................................................................*\n",
      "*Br   10 :depositedEnergyEcalGap : depositedEnergyEcalGap/F                  *\n",
      "*Entries :      500 : Total  Size=       2642 bytes  File Size  =        127 *\n",
      "*Baskets :        1 : Basket Size=      32000 bytes  Compression=  16.45     *\n",
      "*............................................................................*\n",
      "*Br   11 :depositedEnergyEcalDet : depositedEnergyEcalDet/F                  *\n",
      "*Entries :      500 : Total  Size=       2642 bytes  File Size  =        127 *\n",
      "*Baskets :        1 : Basket Size=      32000 bytes  Compression=  16.45     *\n",
      "*............................................................................*\n",
      "*Br   12 :depositedIonEnergyTotal : depositedIonEnergyTotal/F                *\n",
      "*Entries :      500 : Total  Size=       2647 bytes  File Size  =       1776 *\n",
      "*Baskets :        1 : Basket Size=      32000 bytes  Compression=   1.18     *\n",
      "*............................................................................*\n",
      "*Br   13 :depositedIonEnergyECAL_f : depositedIonEnergyECAL_f/F              *\n",
      "*Entries :      500 : Total  Size=       2652 bytes  File Size  =       1855 *\n",
      "*Baskets :        1 : Basket Size=      32000 bytes  Compression=   1.13     *\n",
      "*............................................................................*\n",
      "*Br   14 :depositedIonEnergyECAL_r : depositedIonEnergyECAL_r/F              *\n",
      "*Entries :      500 : Total  Size=       2652 bytes  File Size  =       1886 *\n",
      "*Baskets :        1 : Basket Size=      32000 bytes  Compression=   1.11     *\n",
      "*............................................................................*\n",
      "*Br   15 :depositedIonEnergyWorld : depositedIonEnergyWorld/F                *\n",
      "*Entries :      500 : Total  Size=       2647 bytes  File Size  =        128 *\n",
      "*Baskets :        1 : Basket Size=      32000 bytes  Compression=  16.33     *\n",
      "*............................................................................*\n",
      "*Br   16 :depositedIonEnergyEcalGap : depositedIonEnergyEcalGap/F            *\n",
      "*Entries :      500 : Total  Size=       2657 bytes  File Size  =        130 *\n",
      "*Baskets :        1 : Basket Size=      32000 bytes  Compression=  16.09     *\n",
      "*............................................................................*\n",
      "*Br   17 :depositedIonEnergyEcalDet : depositedIonEnergyEcalDet/F            *\n",
      "*Entries :      500 : Total  Size=       2657 bytes  File Size  =        130 *\n",
      "*Baskets :        1 : Basket Size=      32000 bytes  Compression=  16.09     *\n",
      "*............................................................................*\n",
      "*Br   18 :depositedElecEnergyTotal : depositedElecEnergyTotal/F              *\n",
      "*Entries :      500 : Total  Size=       2652 bytes  File Size  =       1777 *\n",
      "*Baskets :        1 : Basket Size=      32000 bytes  Compression=   1.18     *\n",
      "*............................................................................*\n",
      "*Br   19 :depositedElecEnergyECAL_f : depositedElecEnergyECAL_f[3]/F         *\n",
      "*Entries :      500 : Total  Size=       6663 bytes  File Size  =        151 *\n",
      "*Baskets :        1 : Basket Size=      32000 bytes  Compression=  40.34     *\n",
      "*............................................................................*\n",
      "*Br   20 :depositedElecEnergyECAL_r : depositedElecEnergyECAL_r[3]/F         *\n",
      "*Entries :      500 : Total  Size=       6663 bytes  File Size  =        151 *\n",
      "*Baskets :        1 : Basket Size=      32000 bytes  Compression=  40.34     *\n",
      "*............................................................................*\n",
      "*Br   21 :depositedElecEnergyWorld : depositedElecEnergyWorld/F              *\n",
      "*Entries :      500 : Total  Size=       2652 bytes  File Size  =        129 *\n",
      "*Baskets :        1 : Basket Size=      32000 bytes  Compression=  16.21     *\n",
      "*............................................................................*\n",
      "*Br   22 :depositedElecEnergyEcalGap : depositedElecEnergyEcalGap/F          *\n",
      "*Entries :      500 : Total  Size=       2662 bytes  File Size  =        131 *\n",
      "*Baskets :        1 : Basket Size=      32000 bytes  Compression=  15.98     *\n",
      "*............................................................................*\n",
      "*Br   23 :depositedElecEnergyEcalDet : depositedElecEnergyEcalDet/F          *\n",
      "*Entries :      500 : Total  Size=       2662 bytes  File Size  =        131 *\n",
      "*Baskets :        1 : Basket Size=      32000 bytes  Compression=  15.98     *\n",
      "*............................................................................*\n",
      "*Br   24 :ECAL_f_total_S : ECAL_f_total_S/I                                  *\n",
      "*Entries :      500 : Total  Size=       2602 bytes  File Size  =       1774 *\n",
      "*Baskets :        1 : Basket Size=      32000 bytes  Compression=   1.17     *\n",
      "*............................................................................*\n",
      "*Br   25 :ECAL_f_total_C : ECAL_f_total_C/I                                  *\n",
      "*Entries :      500 : Total  Size=       2602 bytes  File Size  =       1658 *\n",
      "*Baskets :        1 : Basket Size=      32000 bytes  Compression=   1.26     *\n",
      "*............................................................................*\n",
      "*Br   26 :ECAL_r_total_S : ECAL_r_total_S/I                                  *\n",
      "*Entries :      500 : Total  Size=       2602 bytes  File Size  =       1779 *\n",
      "*Baskets :        1 : Basket Size=      32000 bytes  Compression=   1.17     *\n",
      "*............................................................................*\n",
      "*Br   27 :ECAL_r_total_C : ECAL_r_total_C/I                                  *\n",
      "*Entries :      500 : Total  Size=       2602 bytes  File Size  =       1659 *\n",
      "*Baskets :        1 : Basket Size=      32000 bytes  Compression=   1.25     *\n",
      "*............................................................................*\n",
      "*Br   28 :ECAL_f_exit_S : ECAL_f_exit_S/I                                    *\n",
      "*Entries :      500 : Total  Size=       2597 bytes  File Size  =       1729 *\n",
      "*Baskets :        1 : Basket Size=      32000 bytes  Compression=   1.20     *\n",
      "*............................................................................*\n",
      "*Br   29 :ECAL_f_exit_C : ECAL_f_exit_C/I                                    *\n",
      "*Entries :      500 : Total  Size=       2597 bytes  File Size  =       1527 *\n",
      "*Baskets :        1 : Basket Size=      32000 bytes  Compression=   1.36     *\n",
      "*............................................................................*\n",
      "*Br   30 :ECAL_r_exit_S : ECAL_r_exit_S/I                                    *\n",
      "*Entries :      500 : Total  Size=       2597 bytes  File Size  =       1666 *\n",
      "*Baskets :        1 : Basket Size=      32000 bytes  Compression=   1.25     *\n",
      "*............................................................................*\n",
      "*Br   31 :ECAL_r_exit_C : ECAL_r_exit_C/I                                    *\n",
      "*Entries :      500 : Total  Size=       2597 bytes  File Size  =       1470 *\n",
      "*Baskets :        1 : Basket Size=      32000 bytes  Compression=   1.41     *\n",
      "*............................................................................*\n",
      "*Br   32 :SDFdetected_f_S : SDFdetected_f_S/I                                *\n",
      "*Entries :      500 : Total  Size=       2607 bytes  File Size  =       1389 *\n",
      "*Baskets :        1 : Basket Size=      32000 bytes  Compression=   1.50     *\n",
      "*............................................................................*\n",
      "*Br   33 :SDFdetected_f_C : SDFdetected_f_C/I                                *\n",
      "*Entries :      500 : Total  Size=       2607 bytes  File Size  =       1180 *\n",
      "*Baskets :        1 : Basket Size=      32000 bytes  Compression=   1.76     *\n",
      "*............................................................................*\n",
      "*Br   34 :SDCdetected_r_S : SDCdetected_r_S/I                                *\n",
      "*Entries :      500 : Total  Size=       2607 bytes  File Size  =       1334 *\n",
      "*Baskets :        1 : Basket Size=      32000 bytes  Compression=   1.56     *\n",
      "*............................................................................*\n",
      "*Br   35 :SDCdetected_r_C : SDCdetected_r_C/I                                *\n",
      "*Entries :      500 : Total  Size=       2607 bytes  File Size  =       1149 *\n",
      "*Baskets :        1 : Basket Size=      32000 bytes  Compression=   1.81     *\n",
      "*............................................................................*\n",
      "*Br   36 :SDSdetected_r_S : SDSdetected_r_S/I                                *\n",
      "*Entries :      500 : Total  Size=       2607 bytes  File Size  =       1345 *\n",
      "*Baskets :        1 : Basket Size=      32000 bytes  Compression=   1.55     *\n",
      "*............................................................................*\n",
      "*Br   37 :SDSdetected_r_C : SDSdetected_r_C/I                                *\n",
      "*Entries :      500 : Total  Size=       2607 bytes  File Size  =       1149 *\n",
      "*Baskets :        1 : Basket Size=      32000 bytes  Compression=   1.81     *\n",
      "*............................................................................*\n"
     ]
    }
   ],
   "source": [
    "# list elements in a file and variables in the tree\n",
    "file=f'{dataDir}/air_gap/el_10GeV.root'\n",
    "tf=r.TFile(file)\n",
    "tf.ls()\n",
    "tf.Get('tree').Print()"
   ]
  },
  {
   "cell_type": "code",
   "execution_count": 15,
   "metadata": {},
   "outputs": [],
   "source": [
    "def getAverage(filename, branchname):\n",
    "    f3 = r.TFile.Open(filename)\n",
    "    t=f3.Get('tree')\n",
    "    histname = 'hist3_%s_%s' % (os.path.basename(filename), branchname)\n",
    "    x=r.TH1F(histname, 'title' , 100 , 0, 0)\n",
    "    t.Draw('%s>>%s' % (branchname, histname), '', 'goff')\n",
    "    return x.GetMean()    "
   ]
  },
  {
   "cell_type": "markdown",
   "metadata": {
    "tags": []
   },
   "source": [
    "Classes used\n",
    "- [TGraph](https://root.cern.ch/doc/master/classTGraph.html)\n",
    "- [TMultiGraph](https://root.cern.ch/doc/master/classTMultiGraph.html)"
   ]
  },
  {
   "cell_type": "code",
   "execution_count": 16,
   "metadata": {},
   "outputs": [],
   "source": [
    "# loop over a set of files/trees and calculate the average value some variable\n",
    "tgs=[]  # tgraphs\n",
    "tm = r.TMultiGraph()\n",
    "tg=r.TGraph()\n",
    "tg.SetTitle('Muon: SDCdetected_r_C;GeV;N')\n",
    "for e in E:\n",
    "    file=f'{dataDir}/air_gap/mu_{e}.root'\n",
    "    #print(file,eGeV[e])\n",
    "    mean=getAverage(file,'SDCdetected_r_C')\n",
    "    tg.SetPoint(tg.GetN(),eGeV[e],mean)"
   ]
  },
  {
   "cell_type": "code",
   "execution_count": 17,
   "metadata": {},
   "outputs": [
    {
     "data": {
      "image/png": "[encoded data removed]",
      "text/plain": [
       "<IPython.core.display.Image object>"
      ]
     },
     "metadata": {},
     "output_type": "display_data"
    }
   ],
   "source": [
    "tc=r.TCanvas()\n",
    "tg.Draw(\"al\")\n",
    "tc.Draw()"
   ]
  },
  {
   "cell_type": "code",
   "execution_count": null,
   "metadata": {},
   "outputs": [],
   "source": []
  }
 ],
 "metadata": {
  "kernelspec": {
   "display_name": "CalVision Env",
   "language": "python",
   "name": "calvision"
  },
  "language_info": {
   "codemirror_mode": {
    "name": "ipython",
    "version": 3
   },
   "file_extension": ".py",
   "mimetype": "text/x-python",
   "name": "python",
   "nbconvert_exporter": "python",
   "pygments_lexer": "ipython3",
   "version": "3.9.7"
  }
 },
 "nbformat": 4,
 "nbformat_minor": 4
}
